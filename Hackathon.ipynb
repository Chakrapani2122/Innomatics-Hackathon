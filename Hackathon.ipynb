{
 "cells": [
  {
   "cell_type": "markdown",
   "id": "57d89efc",
   "metadata": {},
   "source": [
    "# Innomatics Research Lab - Hackathon"
   ]
  },
  {
   "cell_type": "markdown",
   "id": "a7d8c22c",
   "metadata": {},
   "source": [
    "Firstly import the packages and modules needed for the data preprocessing."
   ]
  },
  {
   "cell_type": "code",
   "execution_count": 1,
   "id": "5b32139b",
   "metadata": {},
   "outputs": [],
   "source": [
    "import pandas as pd\n",
    "import numpy as np\n",
    "import matplotlib.pyplot as plt"
   ]
  },
  {
   "cell_type": "markdown",
   "id": "e4cff25e",
   "metadata": {},
   "source": [
    "Read the given dataframe (CSV file) with pandas."
   ]
  },
  {
   "cell_type": "code",
   "execution_count": 2,
   "id": "75c4a386",
   "metadata": {},
   "outputs": [],
   "source": [
    "df = pd.read_csv(\"dataframe.csv\")"
   ]
  },
  {
   "cell_type": "markdown",
   "id": "d64365a4",
   "metadata": {},
   "source": [
    "Lets see some of the data from the dataframe."
   ]
  },
  {
   "cell_type": "code",
   "execution_count": 3,
   "id": "81e32e81",
   "metadata": {},
   "outputs": [
    {
     "data": {
      "text/html": [
       "<div>\n",
       "<style scoped>\n",
       "    .dataframe tbody tr th:only-of-type {\n",
       "        vertical-align: middle;\n",
       "    }\n",
       "\n",
       "    .dataframe tbody tr th {\n",
       "        vertical-align: top;\n",
       "    }\n",
       "\n",
       "    .dataframe thead th {\n",
       "        text-align: right;\n",
       "    }\n",
       "</style>\n",
       "<table border=\"1\" class=\"dataframe\">\n",
       "  <thead>\n",
       "    <tr style=\"text-align: right;\">\n",
       "      <th></th>\n",
       "      <th>input</th>\n",
       "      <th>output</th>\n",
       "    </tr>\n",
       "  </thead>\n",
       "  <tbody>\n",
       "    <tr>\n",
       "      <th>0</th>\n",
       "      <td>-122.740667</td>\n",
       "      <td>-130.572085</td>\n",
       "    </tr>\n",
       "    <tr>\n",
       "      <th>1</th>\n",
       "      <td>-121.531419</td>\n",
       "      <td>-129.938929</td>\n",
       "    </tr>\n",
       "    <tr>\n",
       "      <th>2</th>\n",
       "      <td>-134.917019</td>\n",
       "      <td>-130.141832</td>\n",
       "    </tr>\n",
       "    <tr>\n",
       "      <th>3</th>\n",
       "      <td>-120.605951</td>\n",
       "      <td>-125.760932</td>\n",
       "    </tr>\n",
       "    <tr>\n",
       "      <th>4</th>\n",
       "      <td>-129.894781</td>\n",
       "      <td>-112.785214</td>\n",
       "    </tr>\n",
       "    <tr>\n",
       "      <th>5</th>\n",
       "      <td>-134.366669</td>\n",
       "      <td>-116.000000</td>\n",
       "    </tr>\n",
       "    <tr>\n",
       "      <th>6</th>\n",
       "      <td>-115.563739</td>\n",
       "      <td>-126.267621</td>\n",
       "    </tr>\n",
       "    <tr>\n",
       "      <th>7</th>\n",
       "      <td>-132.080161</td>\n",
       "      <td>-132.032206</td>\n",
       "    </tr>\n",
       "    <tr>\n",
       "      <th>8</th>\n",
       "      <td>-133.366669</td>\n",
       "      <td>-114.000000</td>\n",
       "    </tr>\n",
       "    <tr>\n",
       "      <th>9</th>\n",
       "      <td>-119.524112</td>\n",
       "      <td>-94.419855</td>\n",
       "    </tr>\n",
       "  </tbody>\n",
       "</table>\n",
       "</div>"
      ],
      "text/plain": [
       "        input      output\n",
       "0 -122.740667 -130.572085\n",
       "1 -121.531419 -129.938929\n",
       "2 -134.917019 -130.141832\n",
       "3 -120.605951 -125.760932\n",
       "4 -129.894781 -112.785214\n",
       "5 -134.366669 -116.000000\n",
       "6 -115.563739 -126.267621\n",
       "7 -132.080161 -132.032206\n",
       "8 -133.366669 -114.000000\n",
       "9 -119.524112  -94.419855"
      ]
     },
     "execution_count": 3,
     "metadata": {},
     "output_type": "execute_result"
    }
   ],
   "source": [
    "df.head(10)"
   ]
  },
  {
   "cell_type": "markdown",
   "id": "3985dd5c",
   "metadata": {},
   "source": [
    "`info()` method describes the data abouut the dataframe."
   ]
  },
  {
   "cell_type": "code",
   "execution_count": 4,
   "id": "06f69acf",
   "metadata": {},
   "outputs": [
    {
     "name": "stdout",
     "output_type": "stream",
     "text": [
      "<class 'pandas.core.frame.DataFrame'>\n",
      "RangeIndex: 1697 entries, 0 to 1696\n",
      "Data columns (total 2 columns):\n",
      " #   Column  Non-Null Count  Dtype  \n",
      "---  ------  --------------  -----  \n",
      " 0   input   1696 non-null   float64\n",
      " 1   output  1696 non-null   float64\n",
      "dtypes: float64(2)\n",
      "memory usage: 26.6 KB\n"
     ]
    }
   ],
   "source": [
    "df.info()"
   ]
  },
  {
   "cell_type": "markdown",
   "id": "013f461a",
   "metadata": {},
   "source": [
    "Let's check for the null values in the dataframe."
   ]
  },
  {
   "cell_type": "code",
   "execution_count": 5,
   "id": "0686826d",
   "metadata": {},
   "outputs": [
    {
     "data": {
      "text/plain": [
       "input     1\n",
       "output    1\n",
       "dtype: int64"
      ]
     },
     "execution_count": 5,
     "metadata": {},
     "output_type": "execute_result"
    }
   ],
   "source": [
    "df.isna().sum()"
   ]
  },
  {
   "cell_type": "markdown",
   "id": "616b54d4",
   "metadata": {},
   "source": [
    "There a null values in both the `input` and `output` columns. Let's drop those rows with NaN values."
   ]
  },
  {
   "cell_type": "code",
   "execution_count": 6,
   "id": "eec52de0",
   "metadata": {},
   "outputs": [],
   "source": [
    "df = df.dropna()"
   ]
  },
  {
   "cell_type": "markdown",
   "id": "5974d22f",
   "metadata": {},
   "source": [
    "Let's check again for the presence of NaN values in the dataframe."
   ]
  },
  {
   "cell_type": "code",
   "execution_count": 7,
   "id": "f8ced6f5",
   "metadata": {},
   "outputs": [
    {
     "data": {
      "text/plain": [
       "input     0\n",
       "output    0\n",
       "dtype: int64"
      ]
     },
     "execution_count": 7,
     "metadata": {},
     "output_type": "execute_result"
    }
   ],
   "source": [
    "df.isna().sum()"
   ]
  },
  {
   "cell_type": "markdown",
   "id": "41a2b08b",
   "metadata": {},
   "source": [
    "There are no NaN valued rows present in the dataframe.\n",
    "\n",
    "The total number of the values present in the dataframe are :"
   ]
  },
  {
   "cell_type": "code",
   "execution_count": 8,
   "id": "4e3ec555",
   "metadata": {},
   "outputs": [
    {
     "data": {
      "text/plain": [
       "1696"
      ]
     },
     "execution_count": 8,
     "metadata": {},
     "output_type": "execute_result"
    }
   ],
   "source": [
    "df.value_counts().sum()"
   ]
  },
  {
   "cell_type": "markdown",
   "id": "4912317e",
   "metadata": {},
   "source": [
    "Lets check the datatype of the values in the dataframe."
   ]
  },
  {
   "cell_type": "code",
   "execution_count": 9,
   "id": "5543dbfe",
   "metadata": {},
   "outputs": [
    {
     "data": {
      "text/plain": [
       "input     float64\n",
       "output    float64\n",
       "dtype: object"
      ]
     },
     "execution_count": 9,
     "metadata": {},
     "output_type": "execute_result"
    }
   ],
   "source": [
    "df.dtypes"
   ]
  },
  {
   "cell_type": "markdown",
   "id": "da2e811f",
   "metadata": {},
   "source": [
    "Both columns contains the `float64` type data."
   ]
  },
  {
   "cell_type": "markdown",
   "id": "2fa6e120",
   "metadata": {},
   "source": [
    "## Linear Regression Model.\n",
    "\n",
    "import `LinearRegression()` from sklearn.linear_model."
   ]
  },
  {
   "cell_type": "code",
   "execution_count": 10,
   "id": "16b59cf1",
   "metadata": {},
   "outputs": [],
   "source": [
    "from sklearn import linear_model\n",
    "model = linear_model.LinearRegression()"
   ]
  },
  {
   "cell_type": "markdown",
   "id": "cc4f9fb6",
   "metadata": {},
   "source": [
    "Split the data into the feature attributes and target values."
   ]
  },
  {
   "cell_type": "code",
   "execution_count": 11,
   "id": "b108262a",
   "metadata": {},
   "outputs": [],
   "source": [
    "from sklearn.model_selection import train_test_split\n",
    "X = df.drop(\"output\", axis=1)\n",
    "Y = df.output"
   ]
  },
  {
   "cell_type": "markdown",
   "id": "0e4b3eba",
   "metadata": {},
   "source": [
    "Splitting the data into tarining and testing sets. with `train_test_split()`"
   ]
  },
  {
   "cell_type": "code",
   "execution_count": 12,
   "id": "21bc8ff6",
   "metadata": {},
   "outputs": [],
   "source": [
    "X_train, X_test, Y_train, Y_test = train_test_split(X, Y, test_size=0.2)"
   ]
  },
  {
   "cell_type": "markdown",
   "id": "db418ee4",
   "metadata": {},
   "source": [
    "Train the model with the traing data i.e, `X_train` and `Y_train`."
   ]
  },
  {
   "cell_type": "code",
   "execution_count": 13,
   "id": "191e93e7",
   "metadata": {},
   "outputs": [
    {
     "data": {
      "text/plain": [
       "LinearRegression()"
      ]
     },
     "execution_count": 13,
     "metadata": {},
     "output_type": "execute_result"
    }
   ],
   "source": [
    "model.fit(X_train, Y_train)"
   ]
  },
  {
   "cell_type": "markdown",
   "id": "bf2b3dda",
   "metadata": {},
   "source": [
    "Predict the values for the testiing data with `X_test` using the `predict()` medthod."
   ]
  },
  {
   "cell_type": "code",
   "execution_count": 14,
   "id": "b4a526d4",
   "metadata": {},
   "outputs": [],
   "source": [
    "Y_predict = model.predict(X_test)"
   ]
  },
  {
   "cell_type": "markdown",
   "id": "48784685",
   "metadata": {},
   "source": [
    "Check the values of the Prediction by the model. (Converting the predicted values into a `DataFrame`, taking the first 10 values for the easy convention. )"
   ]
  },
  {
   "cell_type": "code",
   "execution_count": 15,
   "id": "43461e14",
   "metadata": {},
   "outputs": [
    {
     "data": {
      "text/html": [
       "<div>\n",
       "<style scoped>\n",
       "    .dataframe tbody tr th:only-of-type {\n",
       "        vertical-align: middle;\n",
       "    }\n",
       "\n",
       "    .dataframe tbody tr th {\n",
       "        vertical-align: top;\n",
       "    }\n",
       "\n",
       "    .dataframe thead th {\n",
       "        text-align: right;\n",
       "    }\n",
       "</style>\n",
       "<table border=\"1\" class=\"dataframe\">\n",
       "  <thead>\n",
       "    <tr style=\"text-align: right;\">\n",
       "      <th></th>\n",
       "      <th>0</th>\n",
       "    </tr>\n",
       "  </thead>\n",
       "  <tbody>\n",
       "    <tr>\n",
       "      <th>0</th>\n",
       "      <td>-81.271242</td>\n",
       "    </tr>\n",
       "    <tr>\n",
       "      <th>1</th>\n",
       "      <td>-80.123124</td>\n",
       "    </tr>\n",
       "    <tr>\n",
       "      <th>2</th>\n",
       "      <td>-43.333916</td>\n",
       "    </tr>\n",
       "    <tr>\n",
       "      <th>3</th>\n",
       "      <td>-33.402090</td>\n",
       "    </tr>\n",
       "    <tr>\n",
       "      <th>4</th>\n",
       "      <td>-19.644565</td>\n",
       "    </tr>\n",
       "    <tr>\n",
       "      <th>5</th>\n",
       "      <td>-36.691037</td>\n",
       "    </tr>\n",
       "    <tr>\n",
       "      <th>6</th>\n",
       "      <td>-0.554905</td>\n",
       "    </tr>\n",
       "    <tr>\n",
       "      <th>7</th>\n",
       "      <td>-56.368572</td>\n",
       "    </tr>\n",
       "    <tr>\n",
       "      <th>8</th>\n",
       "      <td>-52.941697</td>\n",
       "    </tr>\n",
       "    <tr>\n",
       "      <th>9</th>\n",
       "      <td>0.387342</td>\n",
       "    </tr>\n",
       "  </tbody>\n",
       "</table>\n",
       "</div>"
      ],
      "text/plain": [
       "           0\n",
       "0 -81.271242\n",
       "1 -80.123124\n",
       "2 -43.333916\n",
       "3 -33.402090\n",
       "4 -19.644565\n",
       "5 -36.691037\n",
       "6  -0.554905\n",
       "7 -56.368572\n",
       "8 -52.941697\n",
       "9   0.387342"
      ]
     },
     "execution_count": 15,
     "metadata": {},
     "output_type": "execute_result"
    }
   ],
   "source": [
    "pd.DataFrame(Y_predict[:10])"
   ]
  },
  {
   "cell_type": "markdown",
   "id": "834a81af",
   "metadata": {},
   "source": [
    "Check the score of thetrained model using `score()` method."
   ]
  },
  {
   "cell_type": "code",
   "execution_count": 16,
   "id": "26583639",
   "metadata": {
    "scrolled": false
   },
   "outputs": [
    {
     "data": {
      "text/plain": [
       "0.2497730808029599"
      ]
     },
     "execution_count": 16,
     "metadata": {},
     "output_type": "execute_result"
    }
   ],
   "source": [
    "model.score(X_train, Y_train)"
   ]
  },
  {
   "cell_type": "markdown",
   "id": "7672760b",
   "metadata": {},
   "source": [
    "The `LinearRegression()` model gives the score of the prediction to 26%. So it's better to check the `RidgeRegression()`."
   ]
  },
  {
   "cell_type": "markdown",
   "id": "71f8cb3b",
   "metadata": {},
   "source": [
    "## Ridge Regression"
   ]
  },
  {
   "cell_type": "markdown",
   "id": "27627047",
   "metadata": {},
   "source": [
    "Import the `Ridge()` from sklearn.linear_model and train the model with the training and testing data."
   ]
  },
  {
   "cell_type": "code",
   "execution_count": 17,
   "id": "be672e6b",
   "metadata": {},
   "outputs": [
    {
     "data": {
      "text/plain": [
       "Ridge()"
      ]
     },
     "execution_count": 17,
     "metadata": {},
     "output_type": "execute_result"
    }
   ],
   "source": [
    "from sklearn.linear_model import Ridge\n",
    "model = Ridge()\n",
    "model.fit(X_train, Y_train)"
   ]
  },
  {
   "cell_type": "markdown",
   "id": "28318339",
   "metadata": {},
   "source": [
    "Check the score of the Rige Regression model."
   ]
  },
  {
   "cell_type": "code",
   "execution_count": 18,
   "id": "f2118439",
   "metadata": {},
   "outputs": [
    {
     "data": {
      "text/plain": [
       "0.3076610990782739"
      ]
     },
     "execution_count": 18,
     "metadata": {},
     "output_type": "execute_result"
    }
   ],
   "source": [
    "model.score(X_test, Y_test)"
   ]
  },
  {
   "cell_type": "markdown",
   "id": "bf7f66d8",
   "metadata": {},
   "source": [
    "The Ridge Regression model gave the score of 26 %, same as the Linear Regression model. For better trained model we need to use `RandomForestReggessor`."
   ]
  },
  {
   "cell_type": "markdown",
   "id": "a83a008d",
   "metadata": {},
   "source": [
    "# Random Forest Regression."
   ]
  },
  {
   "cell_type": "markdown",
   "id": "1590b826",
   "metadata": {},
   "source": [
    "* Import the RandomForestRegressor model class from the ensemble module\n",
    "\n",
    "* Institate and fit the model (on the training set)\n",
    "\n",
    "* Check the score of the model (on the test set)"
   ]
  },
  {
   "cell_type": "code",
   "execution_count": 31,
   "id": "53356088",
   "metadata": {},
   "outputs": [
    {
     "data": {
      "text/plain": [
       "0.7023109853034111"
      ]
     },
     "execution_count": 31,
     "metadata": {},
     "output_type": "execute_result"
    }
   ],
   "source": [
    "from sklearn.ensemble import RandomForestRegressor\n",
    "np.random.seed(20)\n",
    "model = RandomForestRegressor()\n",
    "model.fit(X_train, Y_train)\n",
    "model.score(X_test, Y_test)"
   ]
  },
  {
   "cell_type": "markdown",
   "id": "a07301f2",
   "metadata": {},
   "source": [
    "Checking the cross value for the model improvement of accuracy."
   ]
  },
  {
   "cell_type": "code",
   "execution_count": 20,
   "id": "58b951f6",
   "metadata": {},
   "outputs": [],
   "source": [
    "from sklearn.model_selection import cross_val_score"
   ]
  },
  {
   "cell_type": "code",
   "execution_count": 21,
   "id": "d9b19ce2",
   "metadata": {
    "scrolled": true
   },
   "outputs": [
    {
     "data": {
      "text/plain": [
       "array([0.8485175 , 0.87450373, 0.25545647, 0.06966697, 0.92360379])"
      ]
     },
     "execution_count": 21,
     "metadata": {},
     "output_type": "execute_result"
    }
   ],
   "source": [
    "cross_val_score(model, X, Y)"
   ]
  },
  {
   "cell_type": "markdown",
   "id": "9e52fa28",
   "metadata": {},
   "source": [
    "The model performs with better accuracy when the test data is taken form the last 20% of the dataset with the highest score."
   ]
  },
  {
   "cell_type": "code",
   "execution_count": 22,
   "id": "28b00a26",
   "metadata": {},
   "outputs": [
    {
     "data": {
      "text/plain": [
       "array([0.83410175, 0.87251563, 0.25420993, 0.07178901, 0.92390877])"
      ]
     },
     "execution_count": 22,
     "metadata": {},
     "output_type": "execute_result"
    }
   ],
   "source": [
    "cross_val_score(model, X, Y, cv=5, scoring=None)"
   ]
  },
  {
   "cell_type": "markdown",
   "id": "f091c916",
   "metadata": {},
   "source": [
    "Checking the other evaluation metrics with the model."
   ]
  },
  {
   "cell_type": "code",
   "execution_count": 23,
   "id": "b96c3fff",
   "metadata": {},
   "outputs": [
    {
     "data": {
      "text/plain": [
       "0.0"
      ]
     },
     "execution_count": 23,
     "metadata": {},
     "output_type": "execute_result"
    }
   ],
   "source": [
    "from sklearn.metrics import r2_score\n",
    "y_test_mean = np.full(len(Y_test), Y_test.mean())\n",
    "r2_score(Y_test, y_test_mean)"
   ]
  },
  {
   "cell_type": "code",
   "execution_count": 24,
   "id": "655564c5",
   "metadata": {},
   "outputs": [],
   "source": [
    "df = pd.DataFrame(data={\"actual values\": Y_test, \n",
    "                   \"predictions\": Y_predict})"
   ]
  },
  {
   "cell_type": "markdown",
   "id": "0b0f1a4f",
   "metadata": {},
   "source": [
    "# Plotting the predictions vs true values"
   ]
  },
  {
   "cell_type": "code",
   "execution_count": 25,
   "id": "f0f247bb",
   "metadata": {},
   "outputs": [
    {
     "data": {
      "image/png": "[encoded data removed]",
      "text/plain": [
       "<Figure size 640x480 with 1 Axes>"
      ]
     },
     "metadata": {},
     "output_type": "display_data"
    }
   ],
   "source": [
    "fig, ax = plt.subplots()\n",
    "x = np.arange(0, len(df), 1)\n",
    "ax.scatter(x, df[\"actual values\"], c='b', label=\"Acutual Values\")\n",
    "ax.scatter(x, df[\"predictions\"], c='r', label=\"Predictions\")\n",
    "ax.legend(loc=(1, 0.5));"
   ]
  },
  {
   "cell_type": "code",
   "execution_count": 26,
   "id": "42f66127",
   "metadata": {},
   "outputs": [
    {
     "data": {
      "text/plain": [
       "3047.08886473699"
      ]
     },
     "execution_count": 26,
     "metadata": {},
     "output_type": "execute_result"
    }
   ],
   "source": [
    "# Mean squared error\n",
    "from sklearn.metrics import mean_squared_error\n",
    "mse = mean_squared_error(Y_test, Y_predict)\n",
    "mse"
   ]
  },
  {
   "cell_type": "markdown",
   "id": "56f17a80",
   "metadata": {},
   "source": [
    "# Saving the trained model"
   ]
  },
  {
   "cell_type": "code",
   "execution_count": 27,
   "id": "cb8b562e",
   "metadata": {},
   "outputs": [],
   "source": [
    "import pickle\n",
    "pickle.dump(model, open(\"model.pkl\", \"wb\"))"
   ]
  },
  {
   "cell_type": "markdown",
   "id": "60b5a908",
   "metadata": {},
   "source": [
    "# Loading the saved model"
   ]
  },
  {
   "cell_type": "code",
   "execution_count": 28,
   "id": "c1b73043",
   "metadata": {},
   "outputs": [],
   "source": [
    "loaded_pickle_model = pickle.load(open(\"model.pkl\", \"rb\"))"
   ]
  },
  {
   "cell_type": "markdown",
   "id": "7c653d35",
   "metadata": {},
   "source": [
    "# Making predictions with the loaded model"
   ]
  },
  {
   "cell_type": "code",
   "execution_count": 29,
   "id": "eadcd255",
   "metadata": {},
   "outputs": [],
   "source": [
    "# Make predictions and evaluate the loaded model\n",
    "y_preds = loaded_pickle_model.predict(X_test)\n"
   ]
  },
  {
   "cell_type": "code",
   "execution_count": 30,
   "id": "9c0eb059",
   "metadata": {},
   "outputs": [
    {
     "data": {
      "text/html": [
       "<div>\n",
       "<style scoped>\n",
       "    .dataframe tbody tr th:only-of-type {\n",
       "        vertical-align: middle;\n",
       "    }\n",
       "\n",
       "    .dataframe tbody tr th {\n",
       "        vertical-align: top;\n",
       "    }\n",
       "\n",
       "    .dataframe thead th {\n",
       "        text-align: right;\n",
       "    }\n",
       "</style>\n",
       "<table border=\"1\" class=\"dataframe\">\n",
       "  <thead>\n",
       "    <tr style=\"text-align: right;\">\n",
       "      <th></th>\n",
       "      <th>0</th>\n",
       "    </tr>\n",
       "  </thead>\n",
       "  <tbody>\n",
       "    <tr>\n",
       "      <th>0</th>\n",
       "      <td>-16.184558</td>\n",
       "    </tr>\n",
       "    <tr>\n",
       "      <th>1</th>\n",
       "      <td>-58.782130</td>\n",
       "    </tr>\n",
       "    <tr>\n",
       "      <th>2</th>\n",
       "      <td>-61.743337</td>\n",
       "    </tr>\n",
       "    <tr>\n",
       "      <th>3</th>\n",
       "      <td>-86.272416</td>\n",
       "    </tr>\n",
       "    <tr>\n",
       "      <th>4</th>\n",
       "      <td>-80.162259</td>\n",
       "    </tr>\n",
       "    <tr>\n",
       "      <th>5</th>\n",
       "      <td>-81.154242</td>\n",
       "    </tr>\n",
       "    <tr>\n",
       "      <th>6</th>\n",
       "      <td>1.754042</td>\n",
       "    </tr>\n",
       "    <tr>\n",
       "      <th>7</th>\n",
       "      <td>-37.982905</td>\n",
       "    </tr>\n",
       "    <tr>\n",
       "      <th>8</th>\n",
       "      <td>-44.463745</td>\n",
       "    </tr>\n",
       "    <tr>\n",
       "      <th>9</th>\n",
       "      <td>26.193122</td>\n",
       "    </tr>\n",
       "  </tbody>\n",
       "</table>\n",
       "</div>"
      ],
      "text/plain": [
       "           0\n",
       "0 -16.184558\n",
       "1 -58.782130\n",
       "2 -61.743337\n",
       "3 -86.272416\n",
       "4 -80.162259\n",
       "5 -81.154242\n",
       "6   1.754042\n",
       "7 -37.982905\n",
       "8 -44.463745\n",
       "9  26.193122"
      ]
     },
     "execution_count": 30,
     "metadata": {},
     "output_type": "execute_result"
    }
   ],
   "source": [
    "pd.DataFrame(y_preds).head(10)"
   ]
  }
 ],
 "metadata": {
  "kernelspec": {
   "display_name": "Python 3 (ipykernel)",
   "language": "python",
   "name": "python3"
  },
  "language_info": {
   "codemirror_mode": {
    "name": "ipython",
    "version": 3
   },
   "file_extension": ".py",
   "mimetype": "text/x-python",
   "name": "python",
   "nbconvert_exporter": "python",
   "pygments_lexer": "ipython3",
   "version": "3.9.13"
  }
 },
 "nbformat": 4,
 "nbformat_minor": 5
}
